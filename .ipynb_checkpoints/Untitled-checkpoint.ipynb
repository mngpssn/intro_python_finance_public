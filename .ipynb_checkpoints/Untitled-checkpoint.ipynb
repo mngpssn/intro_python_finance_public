{
 "cells": [
  {
   "cell_type": "code",
   "execution_count": 3,
   "metadata": {},
   "outputs": [
    {
     "ename": "SyntaxError",
     "evalue": "invalid syntax (<ipython-input-3-bb7526555fff>, line 2)",
     "output_type": "error",
     "traceback": [
      "\u001b[1;36m  File \u001b[1;32m\"<ipython-input-3-bb7526555fff>\"\u001b[1;36m, line \u001b[1;32m2\u001b[0m\n\u001b[1;33m    file_names=[f for in os.listdir(\"data/\") if \"nc.csv\" in f]\u001b[0m\n\u001b[1;37m                       ^\u001b[0m\n\u001b[1;31mSyntaxError\u001b[0m\u001b[1;31m:\u001b[0m invalid syntax\n"
     ]
    }
   ],
   "source": [
    "import os\n",
    "file_names=[f for in os.listdir(\"data/\") if \"nc.csv\" in f]\n",
    "file_names"
   ]
  }
 ],
 "metadata": {
  "kernelspec": {
   "display_name": "clase1",
   "language": "python",
   "name": "clase1"
  },
  "language_info": {
   "codemirror_mode": {
    "name": "ipython",
    "version": 3
   },
   "file_extension": ".py",
   "mimetype": "text/x-python",
   "name": "python",
   "nbconvert_exporter": "python",
   "pygments_lexer": "ipython3",
   "version": "3.7.3"
  }
 },
 "nbformat": 4,
 "nbformat_minor": 2
}
