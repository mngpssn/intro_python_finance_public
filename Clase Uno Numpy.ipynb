{
 "cells": [
  {
   "cell_type": "code",
   "execution_count": 12,
   "metadata": {},
   "outputs": [
    {
     "data": {
      "text/plain": [
       "['AAPL_Stocks__NASDAQnc.csv',\n",
       " 'AMZN_Stocks__NASDAQnc.csv',\n",
       " 'FB_Stocks__NASDAQnc.csv',\n",
       " 'GOOG_Stocks__NASDAQnc.csv',\n",
       " 'INTC_Stocks__NASDAQnc.csv',\n",
       " 'MSFT_Stocks__NASDAQnc.csv',\n",
       " 'NFLX_Stocks__NASDAQnc.csv',\n",
       " 'NVDA_Stocks__NASDAQnc.csv',\n",
       " 'PYPL_Stocks__NASDAQnc.csv',\n",
       " 'QQQ_ETF__NASDAQnc.csv',\n",
       " 'TSLA_Stocks__NASDAQnc.csv',\n",
       " 'XLE_ETF__AMEXnc.csv']"
      ]
     },
     "execution_count": 12,
     "metadata": {},
     "output_type": "execute_result"
    }
   ],
   "source": [
    "import numpy as np\n",
    "import os\n",
    "file_names=[f for f in os.listdir(\"data/\") if \"nc.csv\" in f]\n",
    "file_names"
   ]
  },
  {
   "cell_type": "code",
   "execution_count": 8,
   "metadata": {},
   "outputs": [
    {
     "name": "stdout",
     "output_type": "stream",
     "text": [
      "(1029493, 5)\n",
      "(1027391, 5)\n",
      "(795631, 5)\n",
      "(599181, 5)\n",
      "(1029481, 5)\n",
      "(1029534, 5)\n",
      "(1025770, 5)\n",
      "(1038832, 5)\n",
      "(486964, 5)\n",
      "(1040095, 5)\n",
      "(959423, 5)\n",
      "(1029420, 5)\n"
     ]
    }
   ],
   "source": [
    "from numpy import genfromtxt\n",
    "arrays={}\n",
    "for file in file_names:\n",
    "    arrays[file]=genfromtxt(\"data/\"+file, delimiter=',')\n",
    "    print(arrays[file].shape)"
   ]
  },
  {
   "cell_type": "code",
   "execution_count": 10,
   "metadata": {},
   "outputs": [
    {
     "data": {
      "text/plain": [
       "array([[7.892858e+00, 7.961429e+00, 7.885715e+00, 7.892858e+00,\n",
       "        1.451520e+05],\n",
       "       [7.902857e+00, 7.928572e+00, 7.894286e+00, 7.911429e+00,\n",
       "        8.267000e+04],\n",
       "       [7.917143e+00, 7.921429e+00, 7.898572e+00, 7.898572e+00,\n",
       "        1.046000e+05],\n",
       "       [7.898572e+00, 7.911429e+00, 7.894286e+00, 7.898572e+00,\n",
       "        4.759900e+04],\n",
       "       [7.904286e+00, 7.927144e+00, 7.892858e+00, 7.911429e+00,\n",
       "        9.499600e+04]])"
      ]
     },
     "execution_count": 10,
     "metadata": {},
     "output_type": "execute_result"
    }
   ],
   "source": [
    "arrays[\"NFLX_Stocks__NASDAQnc.csv\"][:5,:]"
   ]
  },
  {
   "cell_type": "code",
   "execution_count": 24,
   "metadata": {},
   "outputs": [],
   "source": [
    "#create tensor\n",
    "\n",
    "prices_tensor=np.zeros((5,5,12))\n",
    "counter=0\n",
    "for key,value in arrays.items():\n",
    "    prices_tensor[:,:,counter]=value[:5,:]\n",
    "    counter=counter+1"
   ]
  },
  {
   "cell_type": "code",
   "execution_count": 14,
   "metadata": {},
   "outputs": [
    {
     "name": "stdout",
     "output_type": "stream",
     "text": [
      "frutas\n",
      "['mango', 'fresa']\n",
      "verduras\n",
      "['cebolla', 'pepino']\n"
     ]
    }
   ],
   "source": [
    "temp_dict={\"frutas\":[\"mango\",\"fresa\"],\"verduras\":[\"cebolla\",\"pepino\"]}\n",
    "for key,value in temp_dict.items():\n",
    "    print(key)\n",
    "    print(value)"
   ]
  }
 ],
 "metadata": {
  "kernelspec": {
   "display_name": "clase1",
   "language": "python",
   "name": "clase1"
  },
  "language_info": {
   "codemirror_mode": {
    "name": "ipython",
    "version": 3
   },
   "file_extension": ".py",
   "mimetype": "text/x-python",
   "name": "python",
   "nbconvert_exporter": "python",
   "pygments_lexer": "ipython3",
   "version": "3.7.3"
  }
 },
 "nbformat": 4,
 "nbformat_minor": 2
}
