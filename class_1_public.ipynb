{
 "cells": [
  {
   "cell_type": "markdown",
   "metadata": {
    "slideshow": {
     "slide_type": "slide"
    }
   },
   "source": [
    "# Class 1. Introduction to Python For Finance. \n",
    "\n",
    "Welcome to the first class and to the jupyter notebook.The Jupyter Notebook is an open-source web application that allows you to create and share documents that contain live code, equations, visualizations and narrative text. Uses include: data cleaning and transformation, numerical simulation, statistical modeling, data visualization, machine learning, and much more. https://jupyter.org/\n",
    "\n",
    "This is beginners Python course for finance professionals. Therefore we will be using the Jupyter Notebook. The notebook is a great tool but be aware that it should be just the beggining tool on your Python journey. We will talk more of this  as we progress in the course.  \n",
    "\n"
   ]
  },
  {
   "cell_type": "markdown",
   "metadata": {
    "slideshow": {
     "slide_type": "slide"
    }
   },
   "source": [
    "##  General Programming Standards\n",
    "\n",
    "### DRY Principle. \n",
    " is a principle of software development aimed at reducing repetition of software patterns,[1] replacing it with abstractions or using data normalization to avoid redundancy. The course is based in this principle. **Thats why it is written in English.** We want to avoid using other languange for coding.  we want code that is reproducible, clean and understood by majority of programmers. \n",
    " \n",
    "So we dont want functions called\n",
    "\n",
    "```python\n",
    "\n",
    "def encuentra_las_frases_de_luc_trotacielos(texto):\n",
    "    ...\n",
    "\n",
    "def finden_die_phrasen_des_luc_sternwanderers(text)    \n",
    "```\n",
    "\n",
    "Also there are plently of well written tutorials and documentations by the creators of most of the libraries. I believe is a breach of the principle and a wast of time for both of use for me to re-write and re-teach you something that is already very well written. So , during the course I will use already build material and sources to point you to the references and will focus on help you build bridged between this references. \n",
    "\n",
    "\n"
   ]
  },
  {
   "cell_type": "markdown",
   "metadata": {
    "slideshow": {
     "slide_type": "slide"
    }
   },
   "source": [
    "### Coding Standards.\n",
    "\n",
    "Code is easier to read and review when is nicely written. To write our code we will use Python PEP 8 standards \n",
    "https://www.python.org/dev/peps/pep-0008/ Please read this document after the class today so you get familiar with it. Particulary on naming conventions. **And please if you spot any mistakes in my code or in the one of any of your classmates please let us know** \n",
    "\n",
    "### Impossible Is Nothing.\n",
    "\n",
    "Keep in mind that the amount of resources online is soo broad that basically you can build and code anything you need. dont give up when you have an idea or a question is very likely someone already had it and someone answer it. remember your best friends are the wise google and stackoverflow. \n",
    "\n"
   ]
  },
  {
   "cell_type": "markdown",
   "metadata": {
    "slideshow": {
     "slide_type": "slide"
    }
   },
   "source": [
    "## Class Schedule\n",
    "\n",
    "The only way of knowing programming ( and maybe anything) is by practicing and doing it. So in order to teach programming we need to force our self to live code. there is no other way.  For this reason the course is designed to do code in and outside of class. \n",
    "\n",
    "Each class will be divided as follows:\n",
    "\n",
    "* 00:15: - Two participants will show their  results for the previous class excercise. the objective is to see understand someone else code, see their solutions and if there is the case help improve or spot mistakes. Coding is not only creating but reading , reviewing and improving.\n",
    "* 15:30: - I will present my solution to the problem and review if there are any questions regarding previous class topic. \n",
    "* 30-2:30: class concepts, exerices and examples\n",
    "* 2:30:3:00 In class indepent try to class \"homework\" this is also an oportunity to add questions while writing code. most of the programming questions appear after you start programming. \n",
    "\n",
    "\n"
   ]
  },
  {
   "cell_type": "markdown",
   "metadata": {
    "slideshow": {
     "slide_type": "slide"
    }
   },
   "source": [
    "## Class Material\n",
    "\n",
    "Before each class you will receive a notebook presentation with what will be covered in class.  This should be just a guideline as during class we will focus strongly in coding.\n",
    "\n",
    "After each class I will upload the full material with the code done in class to the class repository\n",
    "\n",
    "https://github.com/JalatorrS1/intro_python_finance_public"
   ]
  },
  {
   "cell_type": "markdown",
   "metadata": {
    "slideshow": {
     "slide_type": "slide"
    }
   },
   "source": [
    "## Python Up and Running\n",
    "\n",
    "This is based on window operative system. I personally develop in Ubuntu and play in Mac Os however. If you have Mac os I recommend you to install python directly from the package version as in windows. I have had issues installing it using Brew. If you have Ubuntu I assume you already had it sort it out. \n",
    "\n",
    "\n",
    "### Install Git\n",
    "\n",
    "1. Create a github account if you dont have one.\n",
    "2. Get installer https://git-scm.com/downloads\n",
    "3. Choose all defaults\n",
    "\n",
    "### Install Sourcetree (optional)\n",
    "\n",
    "1. Install source tree (free windows Git GUI) https://www.sourcetreeapp.com/\n",
    "2. Choose all defualts\n",
    "3. Link your github account to source tree\n",
    "    * Add account\n",
    "    * Credentials change to basic and use your password (“refresh password”)\n",
    "4. Clone class repository to your local machine (use git shell)\n",
    "\n",
    "```\n",
    "C:\\..\\code\\git clone https://github.com/JalatorrS1/intro_python_finance_public\n",
    "\n",
    "```\n",
    "\n",
    "\n"
   ]
  },
  {
   "cell_type": "markdown",
   "metadata": {
    "slideshow": {
     "slide_type": "slide"
    }
   },
   "source": [
    "\n",
    "### Install Python\n",
    "\n",
    "1. Goto :  https://www.python.org/downloads/windows/\n",
    "2. Download executable version of python.\n",
    "3. Check Add Python to Path.\n",
    "4. Verify python is installed by running in the terminal ```python```\n",
    "\n",
    "```\n",
    "Python 3.8.5 (tags/v3.8.5:580fbb0, Jul 20 2020, 15:57:54) [MSC v.1924 64 bit (AMD64)] on win32\n",
    "Type \"help\", \"copyright\", \"credits\" or \"license\" for more information.\n",
    ">>>\n",
    "```\n"
   ]
  },
  {
   "cell_type": "markdown",
   "metadata": {
    "slideshow": {
     "slide_type": "slide"
    }
   },
   "source": [
    "### Python Libraries\n",
    "\n",
    "Python by itself is of not much use. we need some libraries to help us do some magic. libraries are imported with the following structure(check pep link above for more details on imports:\n",
    "\n",
    "```\n",
    "import numpy as np\n",
    "\n",
    "```\n",
    "\n",
    "If you try to run that in your python shell it will not work. why? because you dont have it installed. Before installing it lets talk a bit about virtual enviroments. \n",
    "\n"
   ]
  },
  {
   "cell_type": "markdown",
   "metadata": {
    "slideshow": {
     "slide_type": "slide"
    }
   },
   "source": [
    "## Virtual Enviroments\n",
    "\n",
    "<img src=\"static/img/python_environment.png\">\n",
    "\n"
   ]
  },
  {
   "cell_type": "markdown",
   "metadata": {
    "slideshow": {
     "slide_type": "slide"
    }
   },
   "source": [
    "\n",
    "When you execute python the shell you are running your base enviroment. We in general dont want to mess with the base enviroment ( some other operative systems as linux , specially Cent OS can collapse if we mess with the base enviroment)\n",
    "\n",
    "We want our applications to be clean and reproducible. for this reason we want to isolate the libraries that we are using\n",
    "\n",
    "\n",
    "\n"
   ]
  },
  {
   "cell_type": "markdown",
   "metadata": {
    "slideshow": {
     "slide_type": "slide"
    }
   },
   "source": [
    "\n",
    "### What are virtual enviroments and why we need them?\n",
    "\n",
    "Python applications will often use packages and modules that don’t come as part of the standard library. Applications will sometimes need a specific version of a library, because the application may require that a particular bug has been fixed or the application may be written using an obsolete version of the library’s interface.\n",
    "This means it may not be possible for one Python installation to meet the requirements of every application. If application A needs version 1.0 of a particular module but application B needs version 2.0, then the requirements are in conflict and installing either version 1.0 or 2.0 will leave one application unable to run.\n",
    "The solution for this problem is to create a virtual environment, a self-contained directory tree that contains a Python installation for a particular version of Python, plus a number of additional packages (https://docs.python.org/3/tutorial/venv.html)\n",
    "\n",
    "There are basically three flavors of virtual enviroments that you will find as a data scientist. \n",
    "\n",
    "1. Standard virtual enviroments  (created using virtualenv)\n",
    "2. Conda virtual enviroments (created using anaconda) package manager\n",
    "3. Enviroments using pipenv.  package and dependency manager"
   ]
  },
  {
   "cell_type": "markdown",
   "metadata": {
    "slideshow": {
     "slide_type": "slide"
    }
   },
   "source": [
    "### Pipenv enviroment\n",
    "\n",
    "1. type in the terminal ```pip install pipenv``` ```pip``` is python package installer. with this we are installing the library pipenv in yoour base enviroment. \n",
    "2. Go to your cloned directory of the course ```.../intro_python_finance\n",
    "3. Execute the following command ```pipenv shell``` you should see something like this. \n",
    "\n",
    "<img src=\"static/img/pipenv__installed.png\">\n",
    "\n"
   ]
  },
  {
   "cell_type": "markdown",
   "metadata": {
    "slideshow": {
     "slide_type": "slide"
    }
   },
   "source": [
    "\n",
    "4. Notice that in your folder now there is a file called pipfile and notice that your command prompt now has the name of an environment at the beginning. This is to indicate you that you are running python commands on this environment.Pipfile tracks your environment packages. Now lets install the first package that we will need. Lets install the jupyter notebook ‘pip install jupyterlab’\n",
    "\n",
    "5. We need to register the virtual enviroment in the jupyter notebook so lets do  as in  https://janakiev.com/blog/jupyter-virtual-envs/\n",
    "```\n",
    "python -m ipykernel install --user --name=p38_pipenv_class\n",
    "```\n",
    "6. Run in the terminal  ``` jupyter notebook```\n",
    "\n",
    "7. type in the notebook ``` import pandas as pd``` you should get an error. Why? the library is not installe in this enviroment.  let install it  using pipenv\n"
   ]
  },
  {
   "cell_type": "markdown",
   "metadata": {
    "slideshow": {
     "slide_type": "slide"
    }
   },
   "source": [
    "\n",
    "8. Open another session of your pipenv shell enviroment ( go to the folder and execute pipenv shell) and type ```pipenv install pandas ```\n",
    "\n",
    "lets look at our Pipfile\n",
    "\n",
    "```\n",
    "\n",
    "[[source]]\n",
    "name = \"pypi\"\n",
    "url = \"https://pypi.org/simple\"\n",
    "verify_ssl = true\n",
    "\n",
    "[dev-packages]\n",
    "\n",
    "[packages]\n",
    "pandas = \"*\"\n",
    "\n",
    "[requires]\n",
    "python_version = \"3.8\"\n",
    "```\n",
    "\n"
   ]
  },
  {
   "cell_type": "markdown",
   "metadata": {
    "slideshow": {
     "slide_type": "slide"
    }
   },
   "source": [
    "Lets look at our Pipfile.lock\n",
    "\n",
    "```\n",
    "{\n",
    "    \"_meta\": {\n",
    "        \"hash\": {\n",
    "            \"sha256\": \"44a2006c840cfcfa4b8855e84f23bc17646a2b9634c870d36836c27d43571d6c\"\n",
    "        },\n",
    "        \"pipfile-spec\": 6,\n",
    "        \"requires\": {\n",
    "            \"python_version\": \"3.8\"\n",
    "        },\n",
    "        \"sources\": [\n",
    "            {\n",
    "                \"name\": \"pypi\",\n",
    "                \"url\": \"https://pypi.org/simple\",\n",
    "                \"verify_ssl\": true\n",
    "            }\n",
    "        ]\n",
    "    },\n",
    "    \"default\": {\n",
    "        \"numpy\": {\n",
    "            \"hashes\": [\n",
    "                \"sha256:082f8d4dd69b6b688f64f509b91d482362124986d98dc7dc5f5e9f9b9c3bb983\",\n",
    "                \"sha256:1bc0145999e8cb8aed9d4e65dd8b139adf1919e521177f198529687dbf613065\",\n",
    "                \"sha256:309cbcfaa103fc9a33ec16d2d62569d541b79f828c382556ff072442226d1968\",\n",
    "                \"sha256:3673c8b2b29077f1b7b3a848794f8e11f401ba0b71c49fbd26fb40b71788b132\",\n",
    "                \"sha256:480fdd4dbda4dd6b638d3863da3be82873bba6d32d1fc12ea1b8486ac7b8d129\",\n",
    "                \"sha256:56ef7f56470c24bb67fb43dae442e946a6ce172f97c69f8d067ff8550cf782ff\",\n",
    "                \"sha256:5a936fd51049541d86ccdeef2833cc89a18e4d3808fe58a8abeb802665c5af93\",\n",
    "                \"sha256:5b6885c12784a27e957294b60f97e8b5b4174c7504665333c5e94fbf41ae5d6a\",\n",
    "                \"sha256:667c07063940e934287993366ad5f56766bc009017b4a0fe91dbd07960d0aba7\",\n",
    "                \"sha256:7ed448ff4eaffeb01094959b19cbaf998ecdee9ef9932381420d514e446601cd\",\n",
    "                \"sha256:8343bf67c72e09cfabfab55ad4a43ce3f6bf6e6ced7acf70f45ded9ebb425055\",\n",
    "                \"sha256:92feb989b47f83ebef246adabc7ff3b9a59ac30601c3f6819f8913458610bdcc\",\n",
    "                \"sha256:935c27ae2760c21cd7354402546f6be21d3d0c806fffe967f745d5f2de5005a7\",\n",
    "                \"sha256:aaf42a04b472d12515debc621c31cf16c215e332242e7a9f56403d814c744624\",\n",
    "                \"sha256:b12e639378c741add21fbffd16ba5ad25c0a1a17cf2b6fe4288feeb65144f35b\",\n",
    "                \"sha256:b1cca51512299841bf69add3b75361779962f9cee7d9ee3bb446d5982e925b69\",\n",
    "                \"sha256:b8456987b637232602ceb4d663cb34106f7eb780e247d51a260b84760fd8f491\",\n",
    "                \"sha256:b9792b0ac0130b277536ab8944e7b754c69560dac0415dd4b2dbd16b902c8954\",\n",
    "                \"sha256:c9591886fc9cbe5532d5df85cb8e0cc3b44ba8ce4367bd4cf1b93dc19713da72\",\n",
    "                \"sha256:cf1347450c0b7644ea142712619533553f02ef23f92f781312f6a3553d031fc7\",\n",
    "                \"sha256:de8b4a9b56255797cbddb93281ed92acbc510fb7b15df3f01bd28f46ebc4edae\",\n",
    "                \"sha256:e1b1dc0372f530f26a03578ac75d5e51b3868b9b76cd2facba4c9ee0eb252ab1\",\n",
    "                \"sha256:e45f8e981a0ab47103181773cc0a54e650b2aef8c7b6cd07405d0fa8d869444a\",\n",
    "                \"sha256:e4f6d3c53911a9d103d8ec9518190e52a8b945bab021745af4939cfc7c0d4a9e\",\n",
    "                \"sha256:ed8a311493cf5480a2ebc597d1e177231984c818a86875126cfd004241a73c3e\",\n",
    "                \"sha256:ef71a1d4fd4858596ae80ad1ec76404ad29701f8ca7cdcebc50300178db14dfc\"\n",
    "            ],\n",
    "            \"markers\": \"python_version >= '3.6'\",\n",
    "            \"version\": \"==1.19.1\"\n",
    "        },\n",
    "        \"pandas\": {\n",
    "            \"hashes\": [\n",
    "                \"sha256:0210f8fe19c2667a3817adb6de2c4fd92b1b78e1975ca60c0efa908e0985cbdb\",\n",
    "                \"sha256:0227e3a6e3a22c0e283a5041f1e3064d78fbde811217668bb966ed05386d8a7e\",\n",
    "\n",
    "```"
   ]
  },
  {
   "cell_type": "markdown",
   "metadata": {
    "slideshow": {
     "slide_type": "slide"
    }
   },
   "source": [
    "### Standard Virtual Enviroment\n",
    "\n",
    "Pipenv alrady installed the library ```virtualenv``` we can check what is installed in our enviroment by typing in the terminal\n",
    "```pip freeze```\n",
    "\n",
    "Now lets create a virtaul enviroment without pipenv. \n",
    "\n",
    "1. Make a folder to host the environment files ```mkdir venv```\n",
    "2. Create the environment with the following command ``` python -m venv p38_class_venv```\n",
    "3. To activate the environment you need to run the activate script in your enviroment script folder ```p38_class_venv\\scripts\\activate```\n",
    "\n",
    "4. Check which libraries are installed in your enviroment ```pip freeze```\n",
    "5. To install a library in this enviroment you just need to execute the command ```pip install ```\n",
    "6. Register your environment in the Jupyter Notebook. It is up to you which virtual environment you want to use for the class, both will work\n",
    "7. Install numpy and pandas in your vritual environment. \n"
   ]
  },
  {
   "cell_type": "markdown",
   "metadata": {
    "slideshow": {
     "slide_type": "slide"
    }
   },
   "source": [
    "## Python Data Structures\n",
    "\n",
    "### Primitive Data Structures\n",
    "\n",
    "These are the most primitive or the basic data structures. They are the building blocks for data manipulation and contain pure, simple values of a data. Python has four primitive variable types:\n",
    "\n",
    "* Integers\n",
    "* Float\n",
    "* Strings\n",
    "* Boolean\n",
    "\n",
    "In comparison with other languages Python does not require to  to declare the type of  your variables and all variables can change type dynamically. \n"
   ]
  },
  {
   "cell_type": "markdown",
   "metadata": {
    "slideshow": {
     "slide_type": "slide"
    }
   },
   "source": [
    "\n",
    "### Basic Data Structures. \n",
    "\n",
    "The basic python data structures are : \n",
    "* Lists\n",
    "* Tuples\n",
    "* Sets \n",
    "* Dictionaries\n",
    "\n",
    "\n",
    "lets go here: https://www.w3schools.com/python/python_lists.asp\n",
    "\n",
    "\n",
    "sources:\n",
    "\n",
    "\n",
    "https://robertheaton.com/2014/02/09/pythons-pass-by-object-reference-as-explained-by-philip-k-dick/#:~:text=The%20two%20most%20widely%20known,references%20are%20passed%20by%20value.%E2%80%9D\n",
    "\n",
    "https://www.w3schools.com/python/python_lists.asp\n",
    "\n"
   ]
  },
  {
   "cell_type": "markdown",
   "metadata": {
    "slideshow": {
     "slide_type": "slide"
    }
   },
   "source": [
    "Most of the time you will use variables, lists and  dictionaries. However sets can be useful for complex intersections\n",
    "\n",
    "\n"
   ]
  },
  {
   "cell_type": "code",
   "execution_count": 1,
   "metadata": {
    "slideshow": {
     "slide_type": "slide"
    }
   },
   "outputs": [],
   "source": [
    "#coding examples"
   ]
  },
  {
   "cell_type": "code",
   "execution_count": null,
   "metadata": {},
   "outputs": [],
   "source": []
  },
  {
   "cell_type": "code",
   "execution_count": null,
   "metadata": {},
   "outputs": [],
   "source": []
  },
  {
   "cell_type": "code",
   "execution_count": null,
   "metadata": {},
   "outputs": [],
   "source": []
  },
  {
   "cell_type": "code",
   "execution_count": null,
   "metadata": {},
   "outputs": [],
   "source": []
  },
  {
   "cell_type": "markdown",
   "metadata": {
    "slideshow": {
     "slide_type": "slide"
    }
   },
   "source": [
    "### Python by value or by reference \n",
    "\n",
    "Be very careful.  Python is very versatil and dynamic but this be costly lets look at this example"
   ]
  },
  {
   "cell_type": "code",
   "execution_count": 2,
   "metadata": {
    "slideshow": {
     "slide_type": "slide"
    }
   },
   "outputs": [],
   "source": [
    "#coding examples"
   ]
  },
  {
   "cell_type": "code",
   "execution_count": 3,
   "metadata": {},
   "outputs": [],
   "source": [
    "#coding examples"
   ]
  },
  {
   "cell_type": "code",
   "execution_count": 4,
   "metadata": {},
   "outputs": [],
   "source": [
    "## look how the object that was modified inside of the function was the original created list\n"
   ]
  },
  {
   "cell_type": "code",
   "execution_count": null,
   "metadata": {},
   "outputs": [],
   "source": []
  },
  {
   "cell_type": "code",
   "execution_count": null,
   "metadata": {},
   "outputs": [],
   "source": []
  },
  {
   "cell_type": "markdown",
   "metadata": {
    "slideshow": {
     "slide_type": "slide"
    }
   },
   "source": [
    "What the hell!\n",
    "\n",
    "We need to be very careful with the type of object that we are passing to functions and how we pass it.  In this case we may just conclude that there is difference with variables and lists. However when we use more comples libraries we dont always know how the methods are implemented. my advice always pass by value unless you really want by reference. \n"
   ]
  },
  {
   "cell_type": "markdown",
   "metadata": {
    "slideshow": {
     "slide_type": "slide"
    }
   },
   "source": [
    "### copy — Shallow and deep copy operations\n",
    "\n",
    "The difference between shallow and deep copying is only relevant for compound objects (objects that contain other objects, like lists or class instances):\n",
    "A shallow copy constructs a new compound object and then (to the extent possible) inserts references into it to the objects found in the original.\n",
    "A deep copy constructs a new compound object and then, recursively, inserts copies into it of the objects found in the original.\n",
    "Two problems often exist with deep copy operations that don’t exist with shallow copy operations:\n",
    "Recursive objects (compound objects that, directly or indirectly, contain a reference to themselves) may cause a recursive loop.\n",
    "Because deep copy copies everything it may copy too much, such as data which is intended to be shared between copies.\n",
    "\n",
    "The deepcopy() function avoids these problems by:\n",
    "keeping a memo dictionary of objects already copied during the current copying pass; and\n",
    "letting user-defined classes override the copying operation or the set of components copied.\n",
    "This module does not copy types like module, method, stack trace, stack frame, file, socket, window, array, or any similar types. It does “copy” functions and classes (shallow and deeply), by returning the original object unchanged; this is compatible with the way these are treated by the pickle module.\n",
    "Shallow copies of dictionaries can be made using dict.copy(), and of lists by assigning a slice of the entire list, for example, copied_list = original_list[:].\n",
    "\n",
    "source:\n",
    "https://docs.python.org/3/library/copy.html\n"
   ]
  },
  {
   "cell_type": "code",
   "execution_count": 5,
   "metadata": {
    "slideshow": {
     "slide_type": "slide"
    }
   },
   "outputs": [],
   "source": [
    "#code example"
   ]
  },
  {
   "cell_type": "code",
   "execution_count": null,
   "metadata": {},
   "outputs": [],
   "source": [
    "\n"
   ]
  },
  {
   "cell_type": "code",
   "execution_count": null,
   "metadata": {},
   "outputs": [],
   "source": []
  },
  {
   "cell_type": "markdown",
   "metadata": {
    "slideshow": {
     "slide_type": "slide"
    }
   },
   "source": [
    "### Mini Introduction to Object Oriented Programming\n",
    "\n",
    "Object-oriented programming (OOP) is a programming paradigm based on the concept of \"objects\", which can contain data, in the form of fields (often known as attributes or properties), and code, in the form of procedures (often known as methods). A feature of objects is that an object's own procedures can access and often modify the data fields of itself (objects have a notion of \"this\" or \"self\"). In OOP, computer programs are designed by making them out of objects that interact with one another.[1][2] OOP languages are diverse, but the most popular ones are class-based, meaning that objects are instances of classes, which also determine their types.\n",
    "\n",
    "\n",
    "sources:\n",
    "\n",
    "https://en.wikipedia.org/wiki/Object-oriented_programming\n",
    "\n",
    "https://www.tutorialspoint.com/python/python_classes_objects.htm\n",
    "\n",
    "In python everything is an object!"
   ]
  },
  {
   "cell_type": "code",
   "execution_count": 6,
   "metadata": {},
   "outputs": [],
   "source": [
    "#code examples"
   ]
  },
  {
   "cell_type": "code",
   "execution_count": null,
   "metadata": {},
   "outputs": [],
   "source": []
  },
  {
   "cell_type": "code",
   "execution_count": null,
   "metadata": {},
   "outputs": [],
   "source": [
    "\n"
   ]
  },
  {
   "cell_type": "code",
   "execution_count": null,
   "metadata": {},
   "outputs": [],
   "source": []
  },
  {
   "cell_type": "code",
   "execution_count": null,
   "metadata": {},
   "outputs": [],
   "source": []
  },
  {
   "cell_type": "code",
   "execution_count": null,
   "metadata": {},
   "outputs": [],
   "source": []
  },
  {
   "cell_type": "code",
   "execution_count": 7,
   "metadata": {},
   "outputs": [],
   "source": [
    "#lets use list comprehension  to create a list with all the populations\n",
    "\n"
   ]
  },
  {
   "cell_type": "code",
   "execution_count": null,
   "metadata": {},
   "outputs": [],
   "source": []
  },
  {
   "cell_type": "markdown",
   "metadata": {},
   "source": [
    "# Homework\n",
    "\n",
    "for the next class you should have the following libraries installed\n",
    "\n",
    "* numpy\n",
    "* pandas \n",
    "* matplotlib\n",
    "* plotly\n",
    "\n",
    "Also install jupyter notebook extensions https://jupyter-contrib-nbextensions.readthedocs.io/en/latest/install.html"
   ]
  },
  {
   "cell_type": "code",
   "execution_count": null,
   "metadata": {},
   "outputs": [],
   "source": []
  }
 ],
 "metadata": {
  "celltoolbar": "Slideshow",
  "kernelspec": {
   "display_name": "p38_pipenv_class",
   "language": "python",
   "name": "p38_pipenv_class"
  },
  "language_info": {
   "codemirror_mode": {
    "name": "ipython",
    "version": 3
   },
   "file_extension": ".py",
   "mimetype": "text/x-python",
   "name": "python",
   "nbconvert_exporter": "python",
   "pygments_lexer": "ipython3",
   "version": "3.8.5"
  },
  "varInspector": {
   "cols": {
    "lenName": 16,
    "lenType": 16,
    "lenVar": 40
   },
   "kernels_config": {
    "python": {
     "delete_cmd_postfix": "",
     "delete_cmd_prefix": "del ",
     "library": "var_list.py",
     "varRefreshCmd": "print(var_dic_list())"
    },
    "r": {
     "delete_cmd_postfix": ") ",
     "delete_cmd_prefix": "rm(",
     "library": "var_list.r",
     "varRefreshCmd": "cat(var_dic_list()) "
    }
   },
   "types_to_exclude": [
    "module",
    "function",
    "builtin_function_or_method",
    "instance",
    "_Feature"
   ],
   "window_display": false
  }
 },
 "nbformat": 4,
 "nbformat_minor": 4
}
